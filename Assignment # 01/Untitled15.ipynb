{
 "cells": [
  {
   "cell_type": "code",
   "execution_count": 4,
   "id": "7aca933d",
   "metadata": {},
   "outputs": [
    {
     "name": "stdout",
     "output_type": "stream",
     "text": [
      "81\n"
     ]
    }
   ],
   "source": [
    "a=3**4;\n",
    "print(a);"
   ]
  },
  {
   "cell_type": "code",
   "execution_count": 7,
   "id": "1421d7fb",
   "metadata": {},
   "outputs": [
    {
     "name": "stdout",
     "output_type": "stream",
     "text": [
      "zafran\n",
      "hazarvi\n",
      "khan\n",
      "awan\n"
     ]
    }
   ],
   "source": [
    "print(\"zafran\\nhazarvi\\nkhan\\nawan\");"
   ]
  },
  {
   "cell_type": "code",
   "execution_count": 11,
   "id": "047aeab6",
   "metadata": {},
   "outputs": [
    {
     "name": "stdout",
     "output_type": "stream",
     "text": [
      "False\n"
     ]
    }
   ],
   "source": [
    "x=0;\n",
    "y=12;\n",
    "a=30;\n",
    "b=8;\n",
    "if x+y==a-b:\n",
    "    print(True);\n",
    "else:\n",
    "        print(False);"
   ]
  },
  {
   "cell_type": "code",
   "execution_count": null,
   "id": "dc52d553",
   "metadata": {},
   "outputs": [],
   "source": [
    "elif percent<80 and percent>=70:\n",
    "    print(\"grade b\");"
   ]
  },
  {
   "cell_type": "code",
   "execution_count": null,
   "id": "a372b908",
   "metadata": {},
   "outputs": [],
   "source": []
  },
  {
   "cell_type": "code",
   "execution_count": null,
   "id": "d14c23ea",
   "metadata": {},
   "outputs": [],
   "source": []
  }
 ],
 "metadata": {
  "kernelspec": {
   "display_name": "Python 3",
   "language": "python",
   "name": "python3"
  },
  "language_info": {
   "codemirror_mode": {
    "name": "ipython",
    "version": 3
   },
   "file_extension": ".py",
   "mimetype": "text/x-python",
   "name": "python",
   "nbconvert_exporter": "python",
   "pygments_lexer": "ipython3",
   "version": "3.8.8"
  }
 },
 "nbformat": 4,
 "nbformat_minor": 5
}
