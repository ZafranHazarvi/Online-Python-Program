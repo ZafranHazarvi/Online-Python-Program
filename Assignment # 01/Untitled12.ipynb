{
 "cells": [
  {
   "cell_type": "code",
   "execution_count": 4,
   "id": "418bda93",
   "metadata": {},
   "outputs": [
    {
     "name": "stdout",
     "output_type": "stream",
     "text": [
      "ZAFRAN HAZARVI 76\n"
     ]
    }
   ],
   "source": [
    "a= \"ZAFRAN\";\n",
    "b= \" HAZARVI\";\n",
    "c= a+b+\" 76\";\n",
    "print(c);"
   ]
  },
  {
   "cell_type": "code",
   "execution_count": 5,
   "id": "a7a04c40",
   "metadata": {},
   "outputs": [
    {
     "name": "stdout",
     "output_type": "stream",
     "text": [
      "hashim\n"
     ]
    }
   ],
   "source": [
    "my_name = \"zafran\";\n",
    "my_name = \"hashim\";\n",
    "print(my_name);"
   ]
  },
  {
   "cell_type": "code",
   "execution_count": 9,
   "id": "9c4ace9d",
   "metadata": {},
   "outputs": [
    {
     "name": "stdout",
     "output_type": "stream",
     "text": [
      "13\n"
     ]
    }
   ],
   "source": [
    "num = 6;\n",
    "new_num=num+7;\n",
    "print(newnum);"
   ]
  },
  {
   "cell_type": "markdown",
   "id": "5c341892",
   "metadata": {},
   "source": []
  },
  {
   "cell_type": "code",
   "execution_count": 14,
   "id": "0a66b32a",
   "metadata": {},
   "outputs": [
    {
     "name": "stdout",
     "output_type": "stream",
     "text": [
      "6\n"
     ]
    }
   ],
   "source": [
    "num_1st= 6;\n",
    "print(num_1st);"
   ]
  },
  {
   "cell_type": "code",
   "execution_count": 19,
   "id": "c702cb54",
   "metadata": {},
   "outputs": [
    {
     "name": "stdout",
     "output_type": "stream",
     "text": [
      "enter the math marks99\n",
      "enter the eng marks89\n",
      "enter the isl marks90\n",
      "enter the urdu marks90\n",
      "enter the phy marks90\n",
      "enter the chem marks98\n",
      "92.66666666666666\n",
      "Grade A+\n"
     ]
    }
   ],
   "source": [
    "math = int(input(\"enter the math marks\"));\n",
    "eng = int(input(\"enter the eng marks\"));\n",
    "isl = int(input(\"enter the isl marks\"));\n",
    "urdu = int(input(\"enter the urdu marks\"));\n",
    "phy = int(input(\"enter the phy marks\"));\n",
    "chem = int(input(\"enter the chem marks\"));\n",
    "total_marks = 600;\n",
    "sum = math+eng+isl+urdu+phy+chem;\n",
    "percent = sum/600*100;\n",
    "print(percent);\n",
    "if percent <= 100 and percent>=80:\n",
    "    print(\"Grade A+\");\n",
    "elif percent < 80 and percent>=70:\n",
    "    print(\"Grade A\");\n",
    "elif percent < 70 and percent>=60:\n",
    "    print(\"Grade B\");\n",
    "elif percent < 60 and percent>=50:\n",
    "    print(\"Grade C\");\n",
    "elif percent < 50 and percent>=40:\n",
    "    print(\"Grade D\");\n",
    "elif percent < 40 and percent>=33:\n",
    "    print(\"Grade E\");\n",
    "elif percent < 100 and percent> 0:\n",
    "    print(\"NO RESULT\");\n",
    "else:\n",
    "    print(\"fail\");"
   ]
  },
  {
   "cell_type": "code",
   "execution_count": null,
   "id": "3e8cb68b",
   "metadata": {},
   "outputs": [],
   "source": []
  },
  {
   "cell_type": "code",
   "execution_count": null,
   "id": "96ffddb8",
   "metadata": {},
   "outputs": [],
   "source": []
  }
 ],
 "metadata": {
  "kernelspec": {
   "display_name": "Python 3",
   "language": "python",
   "name": "python3"
  },
  "language_info": {
   "codemirror_mode": {
    "name": "ipython",
    "version": 3
   },
   "file_extension": ".py",
   "mimetype": "text/x-python",
   "name": "python",
   "nbconvert_exporter": "python",
   "pygments_lexer": "ipython3",
   "version": "3.8.8"
  }
 },
 "nbformat": 4,
 "nbformat_minor": 5
}
