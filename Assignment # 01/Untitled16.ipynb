{
 "cells": [
  {
   "cell_type": "code",
   "execution_count": 5,
   "id": "2ea18289",
   "metadata": {},
   "outputs": [
    {
     "name": "stdout",
     "output_type": "stream",
     "text": [
      "e=f\n"
     ]
    }
   ],
   "source": [
    "x=4;\n",
    "y=2;\n",
    "a=6;\n",
    "b=3;\n",
    "c=9;\n",
    "d=9;\n",
    "if (x==y or a==b) and c==d:\n",
    "    print(\"g=h\")\n",
    "else:\n",
    "    print(\"e=f\");"
   ]
  },
  {
   "cell_type": "code",
   "execution_count": 6,
   "id": "84ac09b7",
   "metadata": {},
   "outputs": [
    {
     "name": "stdout",
     "output_type": "stream",
     "text": [
      "[67]\n"
     ]
    }
   ],
   "source": [
    "#leraning python\n",
    "arr=[67];\n",
    "print(arr);\n"
   ]
  },
  {
   "cell_type": "code",
   "execution_count": 7,
   "id": "d7e0bd54",
   "metadata": {},
   "outputs": [
    {
     "name": "stdout",
     "output_type": "stream",
     "text": [
      "zafrana\n"
     ]
    }
   ],
   "source": [
    "\"\"\"\"\"we are learning python\n",
    "learning list now\"\"\"\n",
    "print(\"zafrana\");"
   ]
  },
  {
   "cell_type": "code",
   "execution_count": null,
   "id": "d3f72870",
   "metadata": {},
   "outputs": [],
   "source": []
  }
 ],
 "metadata": {
  "kernelspec": {
   "display_name": "Python 3",
   "language": "python",
   "name": "python3"
  },
  "language_info": {
   "codemirror_mode": {
    "name": "ipython",
    "version": 3
   },
   "file_extension": ".py",
   "mimetype": "text/x-python",
   "name": "python",
   "nbconvert_exporter": "python",
   "pygments_lexer": "ipython3",
   "version": "3.8.8"
  }
 },
 "nbformat": 4,
 "nbformat_minor": 5
}
