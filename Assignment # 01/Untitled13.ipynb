{
 "cells": [
  {
   "cell_type": "code",
   "execution_count": null,
   "id": "ae3bb47f",
   "metadata": {},
   "outputs": [],
   "source": [
    " math=90;\n",
    "total_marks=100;\n",
    "percent=math/100*100;\n",
    "if percent<=100 and percent>=80:\n",
    "    print(\"grade a\");\n",
    "elif percent<80 and percent>=70:\n",
    "    print(\"grade b\");\n",
    "elif percent<70 and percent>=60:\n",
    "    print(\"grade c\");\n",
    "elif percent<60 and percent>=50:\n",
    "    print(\"grade e\");\n",
    "elif percent<50 and percent>=40:\n",
    "    print(\"grade f\");\n",
    "elif percent<40 and percent>=33:\n",
    "    print(\"grade g\");\n",
    "elif percent<0 and percent>100:\n",
    "    print(\"imcorect percent\");\n",
    "elif:\n",
    "    print(\"\")"
   ]
  }
 ],
 "metadata": {
  "kernelspec": {
   "display_name": "Python 3",
   "language": "python",
   "name": "python3"
  },
  "language_info": {
   "codemirror_mode": {
    "name": "ipython",
    "version": 3
   },
   "file_extension": ".py",
   "mimetype": "text/x-python",
   "name": "python",
   "nbconvert_exporter": "python",
   "pygments_lexer": "ipython3",
   "version": "3.8.8"
  }
 },
 "nbformat": 4,
 "nbformat_minor": 5
}
